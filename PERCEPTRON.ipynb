{
  "nbformat": 4,
  "nbformat_minor": 0,
  "metadata": {
    "colab": {
      "name": "PERCEPTRON.ipynb",
      "provenance": [],
      "collapsed_sections": [],
      "authorship_tag": "ABX9TyOu0WlTsAqNaBUSgO4Oq2oz",
      "include_colab_link": true
    },
    "kernelspec": {
      "name": "python3",
      "display_name": "Python 3"
    },
    "language_info": {
      "name": "python"
    }
  },
  "cells": [
    {
      "cell_type": "markdown",
      "metadata": {
        "id": "view-in-github",
        "colab_type": "text"
      },
      "source": [
        "<a href=\"https://colab.research.google.com/github/talisma-cassoma/perceptron/blob/master/PERCEPTRON.ipynb\" target=\"_parent\"><img src=\"https://colab.research.google.com/assets/colab-badge.svg\" alt=\"Open In Colab\"/></a>"
      ]
    },
    {
      "cell_type": "markdown",
      "metadata": {
        "id": "AhXfLOs4a4Jy"
      },
      "source": [
        "modèle"
      ]
    },
    {
      "cell_type": "code",
      "metadata": {
        "id": "iIBVeVkh16Os"
      },
      "source": [
        "import random\n",
        "from random import seed\n",
        "# seed random number generator\n",
        "seed(1)\n",
        "\n",
        "class perceptron:\n",
        "  \n",
        "  weigth =[]\n",
        "  size=0\n",
        "  lrnRate = 0.01\n",
        "  \n",
        "  #constructor\n",
        "  def __init__(self, Size):\n",
        "    self.size= Size\n",
        "    wgth  = [None]*self.size\n",
        "    self.weigth = wgth\n",
        "\n",
        "    for i in range(self.size): # initilizer les poids\n",
        "      self.weigth[i]= random.uniform(-1, 1)\n",
        "\n",
        "  #train    \n",
        "  def trainning(self, input, label):\n",
        "    Guess = self.guess(input)\n",
        "    error = label - Guess\n",
        "    \n",
        "    for i in range(self.size): # reinitilizer les poids\n",
        "      self.weigth[i]+= error*input[i]*self.lrnRate \n",
        "   #guess \n",
        "  def guess(self, input):\n",
        "    sum=0\n",
        "    for i in range(self.size): # \n",
        "      sum += self.weigth[i]*input[i]\n",
        "\n",
        "    output= self.sign(sum) \n",
        "    return output\n",
        "  \n",
        "  #sign\n",
        "  def sign(self, n):\n",
        "    return 1 if n>=0 else -1\n"
      ],
      "execution_count": 202,
      "outputs": []
    },
    {
      "cell_type": "markdown",
      "metadata": {
        "id": "UsJKGoKYawbC"
      },
      "source": [
        "donnees:"
      ]
    },
    {
      "cell_type": "code",
      "metadata": {
        "id": "ryQNVvZp-cx9"
      },
      "source": [
        "#dataset         P\t\tJ\t\tV\t\tE\t\tD\t\tGM\tGS\tDG\tlabel \n",
        "SportingCP\t  = (79,\t31,\t24,\t7\t,\t0\t,\t56,\t15,\t41,\t\t0)\t\n",
        "FCPorto\t\t    = (71,\t31,\t21,\t8\t,\t2\t,\t62,\t28,\t34,\t\t0)\t\n",
        "SLBenfica\t\t  = (67,\t31,\t20,\t7\t,\t4\t,\t59,\t22,\t37,\t\t0)\t\n",
        "SCBraga\t\t    = (59,\t31,\t18,\t5\t,\t8\t,\t50,\t31,\t19,\t\t0)\t\n",
        "FCPFerreira\t  = (49,\t31,\t14,\t7\t,\t10,\t36,\t36,\t0 ,\t\t0)\t\n",
        "VitóriaSC\t\t  = (42,\t31,\t12,\t6\t,\t13,\t35,\t39,\t-4,\t\t0)\n",
        "SantaClara\t  = (37,\t31,\t10,\t7\t,\t14,\t37,\t36,\t1 ,\t\t0)\t\n",
        "BelenensesSAD = (37,\t31,\t8\t,\t13,\t10,\t22,\t28,\t-6 ,\t1)\t\n",
        "oreirenseFC\t\t= (37,\t31,\t8\t,\t13,\t10,\t31,\t40,\t-9 ,\t-1)\t\n",
        "CDTondela\t\t  = (36,\t31,\t10,\t6\t,\t15,\t33,\t50,\t-17,\t-1)\t\n",
        "#GilVicenteFC\t= (35,\t31,\t10,\t5\t,\t16,\t29,\t39,\t-10,\t1)\t\n",
        "FCFamalicão\t\t= (34,\t31,\t8\t,\t10,\t13,\t35,\t44,\t-9 ,\t1)\t\n",
        "Portimonense\t= (34,\t31,\t9\t,\t7\t,\t15,\t33,\t38,\t-5 ,\t-1)\t\n",
        "#MaritimoM\t\t= (33,\t31,\t10,\t3\t,\t18,\t25,\t41,\t-16,\t-1)\n",
        "RioAveFC\t    = (31,\t31,\t6\t,\t13,\t12,\t23,\t35,\t-12,\t0)\t\n",
        "BoavistaFC\t  = (30,\t31,\t6\t,\t12,\t13,\t36,\t47,\t-11,\t0)\n",
        "SCFarense\t\t  = (28,\t31,\t6\t,\t10,\t15,\t29,\t39,\t-10,\t0)\t\n",
        "CDNacional\t  = (25,\t31,\t6\t,\t7\t,\t18,\t28,\t51,\t-23,\t0)\n",
        "      \n",
        "dataset=[SportingCP,FCPorto,SLBenfica,SCBraga,FCPFerreira,VitóriaSC,SantaClara,BelenensesSAD,oreirenseFC,CDTondela,FCFamalicão,Portimonense,RioAveFC,BoavistaFC,SCFarense,CDNacional\t]"
      ],
      "execution_count": 203,
      "outputs": []
    },
    {
      "cell_type": "markdown",
      "metadata": {
        "id": "ExvWqbs3-e7H"
      },
      "source": [
        "entrainement"
      ]
    },
    {
      "cell_type": "code",
      "metadata": {
        "id": "-kwxszFq-hP6"
      },
      "source": [
        "#obj perceptron\n",
        "p = perceptron(len(dataset[0])-1) # = 8 paramettres  \n",
        "\n",
        "inputs=[]\n",
        "\n",
        "#entrainement\n",
        "for i in range(len(dataset)):\n",
        "  for j in range(len(dataset[i])):\n",
        "    inputs.append(dataset[i][j])\n",
        "  \n",
        "  label= inputs[len(inputs)-1]\n",
        "#   reçoit les données, labels  \n",
        "  p.trainning (inputs, label)\n",
        "  #restart \n",
        "  inputs=[]"
      ],
      "execution_count": 204,
      "outputs": []
    },
    {
      "cell_type": "markdown",
      "metadata": {
        "id": "KMeHUh_GUbK3"
      },
      "source": [
        "test"
      ]
    },
    {
      "cell_type": "code",
      "metadata": {
        "id": "pVzVdEotaD9P",
        "colab": {
          "base_uri": "https://localhost:8080/"
        },
        "outputId": "79bad01f-2a55-48d6-815f-1a7e5cc94047"
      },
      "source": [
        "GilVicenteFC\t= (35,\t31,\t10,\t5\t,\t16,\t29,\t39,\t-10) # reponse attendue  1\n",
        "MaritimoM\t\t  = (33,\t31,\t10,\t3\t,\t18,\t25,\t41,\t-16) # reponse attendue -1\n",
        "OreirenseFC\t\t= (37,\t31,\t8\t,\t13,\t10,\t31,\t40,\t-9 ) # reponse attendue -1 obs: cette donnée a été ultisée dans l'entrainement\n",
        "belenensesSAD = (37,\t31,\t8\t,\t13,\t10,\t22,\t28,\t-6 ) # reponse attendue  1 obs: cette donnée a été ultisée dans l'entrainement\n",
        "\n",
        "print(p.guess(GilVicenteFC))\n",
        "print(p.guess(MaritimoM))\n",
        "print(p.guess(OreirenseFC))\n",
        "print(p.guess(belenensesSAD))"
      ],
      "execution_count": 233,
      "outputs": [
        {
          "output_type": "stream",
          "text": [
            "-1\n",
            "-1\n",
            "-1\n",
            "-1\n"
          ],
          "name": "stdout"
        }
      ]
    },
    {
      "cell_type": "markdown",
      "metadata": {
        "id": "jFpqtQridH56"
      },
      "source": [
        "on va ulitiser le meme modele pour classifier un autre example plus simple"
      ]
    },
    {
      "cell_type": "code",
      "metadata": {
        "colab": {
          "base_uri": "https://localhost:8080/"
        },
        "id": "cXZTrwL1dTM7",
        "outputId": "a2e2e2a1-daf8-4a24-b825-b42a821508b4"
      },
      "source": [
        "perc = perceptron(2)\n",
        "\n",
        "#entrainement\n",
        "#              iputs label\n",
        "perc.trainning((1,3), -1)\n",
        "perc.trainning((1,2), -1)\n",
        "perc.trainning((1,1), -1)\n",
        "perc.trainning((1,0),  1)\n",
        "perc.trainning((1,-1), 1)\n",
        "perc.trainning((1,-5), 1)\n",
        "perc.trainning((1,-2), 1) # \n",
        "\n",
        "#données de test\n",
        "E=(1, -2) # label attendu  1\n",
        "F=(1, -3) # label attendu  1\n",
        "G=(1,  5) # label attendu -1\n",
        "\n",
        "print(perc.guess(E))\n",
        "print(perc.guess(F))\n",
        "print(perc.guess(G))\n",
        "print(perc.guess((1,-2))) # obs: cette donnée a été ultisée dans l'entrainement"
      ],
      "execution_count": 259,
      "outputs": [
        {
          "output_type": "stream",
          "text": [
            "1\n",
            "1\n",
            "-1\n",
            "1\n"
          ],
          "name": "stdout"
        }
      ]
    }
  ]
}