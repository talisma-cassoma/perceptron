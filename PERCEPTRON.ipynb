{
  "nbformat": 4,
  "nbformat_minor": 0,
  "metadata": {
    "colab": {
      "name": "PERCEPTRON.ipynb",
      "provenance": [],
      "collapsed_sections": [],
      "authorship_tag": "ABX9TyNAbwyUCueuV2ilGaJvf35N",
      "include_colab_link": true
    },
    "kernelspec": {
      "name": "python3",
      "display_name": "Python 3"
    },
    "language_info": {
      "name": "python"
    }
  },
  "cells": [
    {
      "cell_type": "markdown",
      "metadata": {
        "id": "view-in-github",
        "colab_type": "text"
      },
      "source": [
        "<a href=\"https://colab.research.google.com/github/talisma-cassoma/perceptron/blob/master/PERCEPTRON.ipynb\" target=\"_parent\"><img src=\"https://colab.research.google.com/assets/colab-badge.svg\" alt=\"Open In Colab\"/></a>"
      ]
    },
    {
      "cell_type": "markdown",
      "metadata": {
        "id": "AhXfLOs4a4Jy"
      },
      "source": [
        "single layer perceptron"
      ]
    },
    {
      "cell_type": "code",
      "metadata": {
        "id": "iIBVeVkh16Os"
      },
      "source": [
        "import random\n",
        "from random import seed\n",
        "# seed random number generator\n",
        "seed(1)\n",
        "\n",
        "class perceptron:\n",
        "  \n",
        "  weigth =[]\n",
        "  size=0\n",
        "  lrnRate = 0.01\n",
        "  bias = 1\n",
        "  \n",
        "  #constructor\n",
        "  def __init__(self, Size):\n",
        "    self.size= Size\n",
        "    wgth  = [None]*self.size\n",
        "    self.weigth = wgth\n",
        "\n",
        "    for i in range(self.size): # initilizer les poids\n",
        "      self.weigth[i]= random.uniform(-1, 1)\n",
        "  #sign\n",
        "  def sign(self, n):\n",
        "    return 1 if n>0 else 0\n",
        "    \n",
        "  #train    \n",
        "  def trainning(self, input, label):\n",
        "    Guess = self.guess(input)\n",
        "    error = label - Guess\n",
        "    \n",
        "    for i in range(self.size): # reinitilizer les poids\n",
        "      self.weigth[i]+= error*input[i]*self.lrnRate \n",
        "\n",
        "  #guess \n",
        "  def guess(self, input):\n",
        "    sum=0\n",
        "    for i in range(self.size): # \n",
        "      sum += self.weigth[i]*input[i]\n",
        "\n",
        "    sum+= self.bias \n",
        "    output= self.sign(sum) \n",
        "    return output\n",
        "  \n"
      ],
      "execution_count": 263,
      "outputs": []
    },
    {
      "cell_type": "markdown",
      "metadata": {
        "id": "UsJKGoKYawbC"
      },
      "source": [
        "**TEACHING PERCEPTRON LOGICS GATES** "
      ]
    },
    {
      "cell_type": "markdown",
      "metadata": {
        "id": "2gTUtnAHT021"
      },
      "source": [
        "let start with OR gate"
      ]
    },
    {
      "cell_type": "code",
      "metadata": {
        "colab": {
          "base_uri": "https://localhost:8080/"
        },
        "id": "gsBS-Ijq1nlO",
        "outputId": "b650e31d-3bcb-4c2e-f859-0fe8fef405f1"
      },
      "source": [
        "or_gate= perceptron(2)\n",
        "\n",
        "print(or_gate.weigth,'weigths before trainning:')\n",
        "\n",
        "or_gate.bias=0\n",
        "or_gate.lrnRate=0.5\n",
        "\n",
        "for i in range(80): #train in 80 epochs\n",
        "  or_gate.trainning([0,0], 0)\n",
        "  or_gate.trainning([0,1], 1)\n",
        "  or_gate.trainning([1,0], 1)\n",
        "  or_gate.trainning([1,1], 1)\n",
        "\n",
        "print(or_gate.weigth,'weigths after trainning:')\n",
        "print(or_gate.guess([0,0]))\n",
        "print(or_gate.guess([0,1]))\n",
        "print(or_gate.guess([1,0]))\n",
        "print(or_gate.guess([1,1]))"
      ],
      "execution_count": 292,
      "outputs": [
        {
          "output_type": "stream",
          "text": [
            "[-0.9309483396973168, -0.5145200529138647]\n",
            "[0.06905166030268317, 0.4854799470861353]\n",
            "0\n",
            "1\n",
            "1\n",
            "1\n"
          ],
          "name": "stdout"
        }
      ]
    },
    {
      "cell_type": "markdown",
      "metadata": {
        "id": "QCj7S0FsUWa9"
      },
      "source": [
        "AND gate:"
      ]
    },
    {
      "cell_type": "markdown",
      "metadata": {
        "id": "KYUaz398R9pn"
      },
      "source": [
        "here I'll ONLY TEACH PERCEPTRON 3 LABELS and let him answer all by him self "
      ]
    },
    {
      "cell_type": "code",
      "metadata": {
        "colab": {
          "base_uri": "https://localhost:8080/"
        },
        "id": "-NZ94h0DMEpC",
        "outputId": "ec2bd274-ea83-4e93-ebcb-b11bdd3a1d71"
      },
      "source": [
        "and_gate= perceptron(2)\n",
        "\n",
        "print(and_gate.weigth,'weigths before trainning:')\n",
        "\n",
        "and_gate.bias=-1\n",
        "and_gate.lrnRate=0.05\n",
        "#trainning ny epochs\n",
        "for i in range(80): #          in 80 epochs\n",
        " and_gate.trainning([0,0], 0)\n",
        " and_gate.trainning([0,1], 0)\n",
        " and_gate.trainning([1,1], 1)\n",
        "\n",
        "#test\n",
        "print(and_gate.guess([0,0]))\n",
        "print(and_gate.guess([0,1]))\n",
        "print(and_gate.guess([1,0]))\n",
        "print(and_gate.guess([1,1]))"
      ],
      "execution_count": 313,
      "outputs": [
        {
          "output_type": "stream",
          "text": [
            "[0.6182798017449591, 0.0373565670460041] weigths before trainning:\n",
            "0\n",
            "0\n",
            "0\n",
            "1\n"
          ],
          "name": "stdout"
        }
      ]
    },
    {
      "cell_type": "markdown",
      "metadata": {
        "id": "MMvJjiuVUiaa"
      },
      "source": [
        "NAND"
      ]
    },
    {
      "cell_type": "code",
      "metadata": {
        "colab": {
          "base_uri": "https://localhost:8080/"
        },
        "id": "r7Kf3mKqUklc",
        "outputId": "38d2eb60-059e-4770-95b7-dace134c51fd"
      },
      "source": [
        "Nand_gate= perceptron(2)\n",
        "\n",
        "Nand_gate.bias= 1\n",
        "Nand_gate.lrnRate=0.5\n",
        "#trainning ny epochs\n",
        "for i in range(80): #          in 80 epochs\n",
        " Nand_gate.trainning([0,0], 1)\n",
        " Nand_gate.trainning([0,1], 1)\n",
        " Nand_gate.trainning([1,1], 0)\n",
        "\n",
        "#test\n",
        "print(Nand_gate.guess([0,0]))\n",
        "print(Nand_gate.guess([0,1]))\n",
        "print(Nand_gate.guess([1,0]))\n",
        "print(Nand_gate.guess([1,1]))"
      ],
      "execution_count": 314,
      "outputs": [
        {
          "output_type": "stream",
          "text": [
            "1\n",
            "1\n",
            "1\n",
            "0\n"
          ],
          "name": "stdout"
        }
      ]
    },
    {
      "cell_type": "markdown",
      "metadata": {
        "id": "59eQO6PJVyMK"
      },
      "source": [
        "NOR gate\n",
        "\n",
        "here I'll ONLY TEACH PERCEPTRON 2 LABELS and let him answer all by him self"
      ]
    },
    {
      "cell_type": "code",
      "metadata": {
        "colab": {
          "base_uri": "https://localhost:8080/"
        },
        "id": "6AoHxQaFV2vj",
        "outputId": "1db09e15-a390-481d-9d52-49b3ded0c5c3"
      },
      "source": [
        "Nor_gate= perceptron(2)\n",
        "\n",
        "Nor_gate.bias=-1\n",
        "Nor_gate.lrnRate=0.05\n",
        "#trainning ny epochs\n",
        "for i in range(80): #          in 80 epochs\n",
        " Nor_gate.trainning([0,1], 0)\n",
        " Nor_gate.trainning([1,1], 1)\n",
        "\n",
        "#teste\n",
        "print(Nor_gate.guess([0,0]))\n",
        "print(and_gate.guess([0,1]))\n",
        "print(Nor_gate.guess([1,0]))\n",
        "print(Nor_gate.guess([1,1]))"
      ],
      "execution_count": 390,
      "outputs": [
        {
          "output_type": "stream",
          "text": [
            "0\n",
            "0\n",
            "0\n",
            "1\n"
          ],
          "name": "stdout"
        }
      ]
    },
    {
      "cell_type": "markdown",
      "metadata": {
        "id": "AmyQ47AAXn_C"
      },
      "source": [
        "XOR gate"
      ]
    },
    {
      "cell_type": "markdown",
      "metadata": {
        "id": "JKuuJYC4YKPh"
      },
      "source": [
        "a simple perceptron can only solve linearly separable problems and XOR isnt a linearly separable problem\n",
        "no matter what ajustement or much epochs we train him he will nerver solve it "
      ]
    },
    {
      "cell_type": "code",
      "metadata": {
        "colab": {
          "base_uri": "https://localhost:8080/"
        },
        "id": "MEPLMIFJXq0G",
        "outputId": "3fe2a36a-f359-42ad-b707-3c5132527b4e"
      },
      "source": [
        "xor_gate= perceptron(2)\n",
        "\n",
        "print(xor_gate.weigth,'weigths before trainning:')\n",
        "\n",
        "xor_gate.bias=0\n",
        "xor_gate.lrnRate=0.5\n",
        "\n",
        "for i in range(80000): #train in 80 epochs\n",
        "  xor_gate.trainning([0,0], 0)\n",
        "  xor_gate.trainning([0,1], 1)\n",
        "  xor_gate.trainning([1,0], 1)\n",
        "  xor_gate.trainning([1,1], 0)\n",
        "\n",
        "print(xor_gate.weigth,'weigths after trainning:')\n",
        "print(xor_gate.guess([0,0]))\n",
        "print(xor_gate.guess([0,1]))\n",
        "print(xor_gate.guess([1,0]))\n",
        "print(xor_gate.guess([1,1]))"
      ],
      "execution_count": 394,
      "outputs": [
        {
          "output_type": "stream",
          "text": [
            "[0.34082327804786194, -0.8166337547669644] weigths before trainning:\n",
            "[-0.15917672195213806, -0.8166337547669644] weigths after trainning:\n",
            "0\n",
            "0\n",
            "0\n",
            "0\n"
          ],
          "name": "stdout"
        }
      ]
    }
  ]
}